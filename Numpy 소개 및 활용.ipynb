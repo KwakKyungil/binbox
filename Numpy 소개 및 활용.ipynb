{
 "cells": [
  {
   "cell_type": "markdown",
   "id": "f343d14f",
   "metadata": {},
   "source": [
    "Numpy는 Python의 수치 계산을 위한 라이브러리입니다. Numpy를 이용하면 배열(array)을 사용해 빠르고 효율적인 수치 연산을 수행할 수 있습니다."
   ]
  },
  {
   "cell_type": "code",
   "execution_count": 1,
   "id": "4e1e27f5",
   "metadata": {},
   "outputs": [],
   "source": [
    "import numpy as np"
   ]
  },
  {
   "cell_type": "markdown",
   "id": "620a5d33",
   "metadata": {},
   "source": [
    "## 배열 생성:\n",
    "* Numpy에서 가장 중요한 객체는 다차원 배열(ndarray)입니다. 다음은 배열을 생성하는 몇 가지 방법입니다.\n",
    "\n",
    "### 리스트를 사용한 배열 생성:"
   ]
  },
  {
   "cell_type": "code",
   "execution_count": 3,
   "id": "2faa2e6d",
   "metadata": {},
   "outputs": [
    {
     "name": "stdout",
     "output_type": "stream",
     "text": [
      "[1 2 3]\n"
     ]
    }
   ],
   "source": [
    "a = np.array([1, 2, 3])   # 1차원 배열\n",
    "b = np.array([[1, 2, 3], [4, 5, 6]])   # 2차원 배열\n",
    "\n",
    "print(a)"
   ]
  },
  {
   "cell_type": "code",
   "execution_count": 4,
   "id": "700f8323",
   "metadata": {},
   "outputs": [
    {
     "name": "stdout",
     "output_type": "stream",
     "text": [
      "[[1 2 3]\n",
      " [4 5 6]]\n"
     ]
    }
   ],
   "source": [
    "print(b)"
   ]
  },
  {
   "cell_type": "markdown",
   "id": "d8f48cbb",
   "metadata": {},
   "source": [
    "### 초기값과 크기를 지정한 배열 생성:"
   ]
  },
  {
   "cell_type": "code",
   "execution_count": 5,
   "id": "0bd88715",
   "metadata": {},
   "outputs": [
    {
     "name": "stdout",
     "output_type": "stream",
     "text": [
      "[[0. 0. 0.]\n",
      " [0. 0. 0.]\n",
      " [0. 0. 0.]]\n"
     ]
    }
   ],
   "source": [
    "zeros = np.zeros((3, 3))   # 모든 요소가 0인 3x3 배열 생성\n",
    "ones = np.ones((2, 2))     # 모든 요소가 1인 2x2 배열 생성\n",
    "\n",
    "print(zeros)"
   ]
  },
  {
   "cell_type": "code",
   "execution_count": 6,
   "id": "43b34d5a",
   "metadata": {},
   "outputs": [
    {
     "name": "stdout",
     "output_type": "stream",
     "text": [
      "[[1. 1.]\n",
      " [1. 1.]]\n"
     ]
    }
   ],
   "source": [
    "print(ones)"
   ]
  },
  {
   "cell_type": "markdown",
   "id": "e62b496c",
   "metadata": {},
   "source": [
    "### 배열 속성 및 인덱싱:"
   ]
  },
  {
   "cell_type": "code",
   "execution_count": 7,
   "id": "ea89627f",
   "metadata": {},
   "outputs": [
    {
     "name": "stdout",
     "output_type": "stream",
     "text": [
      "(2, 3)\n",
      "2\n",
      "6\n",
      "2\n",
      "[1 4]\n"
     ]
    }
   ],
   "source": [
    "a = np.array([[1, 2, 3], [4, 5, 6]])\n",
    "\n",
    "print(a.shape)  # 배열의 크기: (2, 3)\n",
    "print(a.ndim)   # 배열의 차원: 2\n",
    "print(a.size)   # 배열의 요소 개수: 6"
   ]
  },
  {
   "cell_type": "code",
   "execution_count": 8,
   "id": "ca46b937",
   "metadata": {},
   "outputs": [
    {
     "name": "stdout",
     "output_type": "stream",
     "text": [
      "2\n",
      "[1 4]\n"
     ]
    }
   ],
   "source": [
    "# 인덱싱 및 슬라이싱\n",
    "print(a[0, 1])  # 1행 2열 요소: 2\n",
    "print(a[:, 0])  # 첫 번째 열: array([1, 4])"
   ]
  },
  {
   "cell_type": "markdown",
   "id": "7ab3a770",
   "metadata": {},
   "source": [
    "## 배열 연산:\n",
    "* Numpy는 기본적인 사칙 연산, 선형 대수 연산 등 다양한 수학 연산을 지원합니다.\n",
    "\n",
    "### 기본 사칙 연산:"
   ]
  },
  {
   "cell_type": "code",
   "execution_count": 9,
   "id": "d6f43c89",
   "metadata": {},
   "outputs": [
    {
     "name": "stdout",
     "output_type": "stream",
     "text": [
      "[5 7 9]\n",
      "[ 4 10 18]\n"
     ]
    }
   ],
   "source": [
    "a = np.array([1, 2, 3])\n",
    "b = np.array([4, 5, 6])\n",
    "\n",
    "print(a + b)  # array([5, 7, 9])\n",
    "print(a * b)  # array([ 4, 10, 18])"
   ]
  },
  {
   "cell_type": "markdown",
   "id": "df859bcd",
   "metadata": {},
   "source": [
    "### 행렬 곱:"
   ]
  },
  {
   "cell_type": "code",
   "execution_count": 10,
   "id": "c65cd7fd",
   "metadata": {},
   "outputs": [
    {
     "name": "stdout",
     "output_type": "stream",
     "text": [
      "[[19 22]\n",
      " [43 50]]\n"
     ]
    }
   ],
   "source": [
    "a = np.array([[1, 2], [3, 4]])\n",
    "b = np.array([[5, 6], [7, 8]])\n",
    "\n",
    "print(np.dot(a, b))  # array([[19, 22], [43, 50]])"
   ]
  },
  {
   "cell_type": "markdown",
   "id": "f9c39148",
   "metadata": {},
   "source": [
    "### 브로드캐스팅:\n",
    "* Numpy는 브로드캐스팅 기능을 통해 서로 다른 크기의 배열 간 연산을 쉽게 수행할 수 있습니다. 브로드캐스팅은 작은 배열이 큰 배열의 크기에 맞춰 자동으로 확장되어 연산이 가능하게 하는 기능입니다."
   ]
  },
  {
   "cell_type": "code",
   "execution_count": 11,
   "id": "e85ec51f",
   "metadata": {},
   "outputs": [
    {
     "name": "stdout",
     "output_type": "stream",
     "text": [
      "[[ 2  2  4]\n",
      " [ 5  5  7]\n",
      " [ 8  8 10]]\n"
     ]
    }
   ],
   "source": [
    "a = np.array([[1, 2, 3], [4, 5, 6], [7, 8, 9]])\n",
    "b = np.array([1, 0, 1])\n",
    "\n",
    "# 브로드캐스팅을 사용한 연산\n",
    "c = a + b  # b가 a의 크기에 맞춰 확장되어 연산됩니다.\n",
    "print(c)\n",
    "# 출력 결과:\n",
    "# array([[ 2,  2,  4],\n",
    "#        [ 5,  5,  7],\n",
    "#        [ 8,  8, 10]])"
   ]
  },
  {
   "cell_type": "markdown",
   "id": "bdb3f3cf",
   "metadata": {},
   "source": [
    "### 유용한 Numpy 함수들:\n",
    "* np.arange(start, stop, step) : start부터 stop까지 step 간격의 숫자를 생성한 후 배열로 반환합니다."
   ]
  },
  {
   "cell_type": "code",
   "execution_count": 12,
   "id": "35b3efac",
   "metadata": {},
   "outputs": [
    {
     "name": "stdout",
     "output_type": "stream",
     "text": [
      "[0 2 4 6 8]\n"
     ]
    }
   ],
   "source": [
    "# np.arange 예시\n",
    "a = np.arange(0, 10, 2)\n",
    "print(a)  # 출력 결과: array([0, 2, 4, 6, 8])"
   ]
  },
  {
   "cell_type": "markdown",
   "id": "0364effc",
   "metadata": {},
   "source": [
    "* np.linspace(start, stop, num) : start부터 stop까지 균일한 간격으로 num개의 숫자를 생성한 후 배열로 반환합니다."
   ]
  },
  {
   "cell_type": "code",
   "execution_count": 13,
   "id": "55052492",
   "metadata": {},
   "outputs": [
    {
     "name": "stdout",
     "output_type": "stream",
     "text": [
      "[0.   0.25 0.5  0.75 1.  ]\n"
     ]
    }
   ],
   "source": [
    "# np.linspace 예시\n",
    "b = np.linspace(0, 1, 5)\n",
    "print(b)  # 출력 결과: array([0.  , 0.25, 0.5 , 0.75, 1.  ])"
   ]
  },
  {
   "cell_type": "markdown",
   "id": "c0e7f5ce",
   "metadata": {},
   "source": [
    "* np.reshape(a, new_shape) : 주어진 배열 a를 new_shape로 변경한 새로운 배열을 반환합니다."
   ]
  },
  {
   "cell_type": "code",
   "execution_count": 14,
   "id": "fafc0ba8",
   "metadata": {},
   "outputs": [
    {
     "name": "stdout",
     "output_type": "stream",
     "text": [
      "[[1 2 3]\n",
      " [4 5 6]]\n"
     ]
    }
   ],
   "source": [
    "# np.reshape 예시\n",
    "c = np.array([1, 2, 3, 4, 5, 6])\n",
    "d = np.reshape(c, (2, 3))\n",
    "print(d)\n",
    "# 출력 결과:\n",
    "# array([[1, 2, 3],\n",
    "#        [4, 5, 6]])"
   ]
  },
  {
   "cell_type": "markdown",
   "id": "11f38119",
   "metadata": {},
   "source": [
    "* np.sum(a, axis) : 주어진 배열 a의 모든 요소의 합계를 계산하며, axis를 지정하면 해당 축을 따라 합계를 계산합니다."
   ]
  },
  {
   "cell_type": "code",
   "execution_count": 15,
   "id": "06d7ed2b",
   "metadata": {},
   "outputs": [
    {
     "name": "stdout",
     "output_type": "stream",
     "text": [
      "21\n"
     ]
    }
   ],
   "source": [
    "# np.sum 예시\n",
    "e = np.array([[1, 2, 3], [4, 5, 6]])\n",
    "f = np.sum(e)\n",
    "print(f)  # 출력 결과: 21"
   ]
  },
  {
   "cell_type": "markdown",
   "id": "4b683c17",
   "metadata": {},
   "source": [
    "* np.mean(a, axis) : 주어진 배열 a의 모든 요소의 평균을 계산하며, axis를 지정하면 해당 축을 따라 평균을 계산합니다."
   ]
  },
  {
   "cell_type": "code",
   "execution_count": 16,
   "id": "26bf5c0b",
   "metadata": {},
   "outputs": [
    {
     "name": "stdout",
     "output_type": "stream",
     "text": [
      "3.5\n"
     ]
    }
   ],
   "source": [
    "# np.mean 예시\n",
    "g = np.array([[1, 2, 3], [4, 5, 6]])\n",
    "h = np.mean(g)\n",
    "print(h)  # 출력 결과: 3.5"
   ]
  },
  {
   "cell_type": "markdown",
   "id": "0adad650",
   "metadata": {},
   "source": [
    "* np.max(a, axis) : 주어진 배열 a의 최대값을 찾습니다. axis를 지정하면 해당 축을 따라 최대값을 찾습니다."
   ]
  },
  {
   "cell_type": "code",
   "execution_count": 17,
   "id": "29017c6f",
   "metadata": {},
   "outputs": [
    {
     "name": "stdout",
     "output_type": "stream",
     "text": [
      "6\n"
     ]
    }
   ],
   "source": [
    "# np.max 예시\n",
    "i = np.array([[1, 2, 3], [4, 5, 6]])\n",
    "j = np.max(i)\n",
    "print(j)  # 출력 결과: 6"
   ]
  },
  {
   "cell_type": "markdown",
   "id": "70de0295",
   "metadata": {},
   "source": [
    "* np.min(a, axis) : 주어진 배열 a의 최소값을 찾습니다. axis를 지정하면 해당 축을 따라 최소값을 찾습니다."
   ]
  },
  {
   "cell_type": "code",
   "execution_count": 18,
   "id": "a4e4e9aa",
   "metadata": {},
   "outputs": [
    {
     "name": "stdout",
     "output_type": "stream",
     "text": [
      "1\n"
     ]
    }
   ],
   "source": [
    "# np.min 예시\n",
    "k = np.array([[1, 2, 3], [4, 5, 6]])\n",
    "l = np.min(k)\n",
    "print(l)  # 출력 결과: 1"
   ]
  },
  {
   "cell_type": "code",
   "execution_count": null,
   "id": "3882bcb1",
   "metadata": {},
   "outputs": [],
   "source": []
  }
 ],
 "metadata": {
  "kernelspec": {
   "display_name": "Python 3 (ipykernel)",
   "language": "python",
   "name": "python3"
  },
  "language_info": {
   "codemirror_mode": {
    "name": "ipython",
    "version": 3
   },
   "file_extension": ".py",
   "mimetype": "text/x-python",
   "name": "python",
   "nbconvert_exporter": "python",
   "pygments_lexer": "ipython3",
   "version": "3.8.13"
  }
 },
 "nbformat": 4,
 "nbformat_minor": 5
}
